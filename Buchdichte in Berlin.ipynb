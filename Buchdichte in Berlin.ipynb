{
 "cells": [
  {
   "cell_type": "markdown",
   "id": "296e56df",
   "metadata": {},
   "source": [
    "# Buchdichte in Berlin"
   ]
  },
  {
   "cell_type": "markdown",
   "id": "86ec14c6",
   "metadata": {},
   "source": [
    "## Daten von Das Örtliche\n",
    "\n",
    "Die Adressen der Buchhandlungen werden von den Seiten von [Das Örtliche](www.dasoertliche.de) bezogen."
   ]
  },
  {
   "cell_type": "code",
   "execution_count": 165,
   "id": "832c3037",
   "metadata": {},
   "outputs": [],
   "source": [
    "import requests\n",
    "from lxml import etree\n",
    "import re\n",
    "from collections import Counter,defaultdict"
   ]
  },
  {
   "cell_type": "code",
   "execution_count": 53,
   "id": "439cb462",
   "metadata": {},
   "outputs": [],
   "source": [
    "FROM = 1"
   ]
  },
  {
   "cell_type": "code",
   "execution_count": 54,
   "id": "3c577430",
   "metadata": {},
   "outputs": [],
   "source": [
    "oertliche = f\"https://www.dasoertliche.de/?seo=true&zvo_ok=0&buc=&plz=&quarter=&district=&ciid=&fn=&kw=Buchhandlungen&ci=Berlin&st=&radius=0&kgs=&buab=&zbuab=&form_name=search_nat_ext&recFrom={FROM}\""
   ]
  },
  {
   "cell_type": "code",
   "execution_count": 55,
   "id": "d8d195f2",
   "metadata": {},
   "outputs": [],
   "source": [
    "res = requests.get(oertliche)"
   ]
  },
  {
   "cell_type": "code",
   "execution_count": 56,
   "id": "f936b180",
   "metadata": {},
   "outputs": [],
   "source": [
    "parser = etree.HTMLParser()\n",
    "tree   = etree.fromstring(res.text, parser)"
   ]
  },
  {
   "cell_type": "code",
   "execution_count": 62,
   "id": "5b987101",
   "metadata": {},
   "outputs": [],
   "source": [
    "total_hits = int(tree.find('.//span[@class=\"sttrefferanz\"]').text)"
   ]
  },
  {
   "cell_type": "code",
   "execution_count": 265,
   "id": "ecb3ea14",
   "metadata": {},
   "outputs": [],
   "source": [
    "def parseResponse(res) -> list:\n",
    "    '''Liest HTTP-Response von Das Örtliche aus und gibt eine '''\n",
    "    tree   = etree.fromstring(res.text, parser)\n",
    "    results = []\n",
    "    for div in tree.findall('.//div[@class = \"hit \"]'):\n",
    "        name = div.find('h2/a').text.strip()\n",
    "        link = div.find('h2/a').attrib.get('href').strip()\n",
    "        tmp_address = div.find('.//address')\n",
    "        address = []\n",
    "        for x in tmp_address.iter():\n",
    "            if x.text is not None:\n",
    "                text = x.text.strip()\n",
    "                if len(text) > 0:\n",
    "                    address.append(text)\n",
    "            if x.tail is not None:\n",
    "                tail = x.tail.strip()\n",
    "                if len(tail) > 0:\n",
    "                    address.append(tail)\n",
    "        for a in adress:\n",
    "            PLZ = None\n",
    "            try:\n",
    "                PLZ = re.search(r'1\\d{4}',a).group()\n",
    "            except Exception as e:\n",
    "                print(e)\n",
    "\n",
    "        results.append({\n",
    "            'name' : name,\n",
    "            'link' : link,\n",
    "            'address' : address,\n",
    "            'PLZ' : PLZ\n",
    "        })\n",
    "    return results"
   ]
  },
  {
   "cell_type": "code",
   "execution_count": 64,
   "id": "68777d33",
   "metadata": {},
   "outputs": [],
   "source": [
    "buchhandlungen = []"
   ]
  },
  {
   "cell_type": "code",
   "execution_count": 65,
   "id": "4ec027fb",
   "metadata": {},
   "outputs": [],
   "source": [
    "for FROM in range(1,total_hits + 1, 25):\n",
    "    oertliche = f\"https://www.dasoertliche.de/?seo=true&zvo_ok=0&buc=&plz=&quarter=&district=&ciid=&fn=&kw=Buchhandlungen&ci=Berlin&st=&radius=0&kgs=&buab=&zbuab=&form_name=search_nat_ext&recFrom={FROM}\"\n",
    "    res = requests.get(oertliche)\n",
    "    _ = parseResponse(res)\n",
    "    buchhandlungen.extend(_)"
   ]
  },
  {
   "cell_type": "code",
   "execution_count": 169,
   "id": "35f114c5",
   "metadata": {},
   "outputs": [],
   "source": [
    "bhCounter = Counter(b.get('PLZ') for b in buchhandlungen)"
   ]
  },
  {
   "cell_type": "markdown",
   "id": "f7a2c460",
   "metadata": {},
   "source": [
    "## Bevölkerungsstatistik\n",
    "\n",
    "https://www.statistik-berlin-brandenburg.de/a-i-5-hj"
   ]
  },
  {
   "cell_type": "code",
   "execution_count": 99,
   "id": "0a582148",
   "metadata": {},
   "outputs": [],
   "source": [
    "import pandas as pd\n",
    "from io import BytesIO"
   ]
  },
  {
   "cell_type": "code",
   "execution_count": 116,
   "id": "7915064e",
   "metadata": {},
   "outputs": [],
   "source": [
    "url = \"https://download.statistik-berlin-brandenburg.de/31b0e1f55fbede61/0a9d61e4323b/SB_A01-05-00_2022h01_BE.xlsx\"\n",
    "res = requests.get(url)"
   ]
  },
  {
   "cell_type": "code",
   "execution_count": 159,
   "id": "0ab06df3",
   "metadata": {},
   "outputs": [],
   "source": [
    "df = pd.read_excel(BytesIO(res.content),\n",
    "                   sheet_name = \"T14\",\n",
    "                   skiprows = lambda x: x in [0,1,3,4],\n",
    "                   converters = {\n",
    "                       'Postleitzahl' : str,\n",
    "                       'Ins-\\ngesamt' : int\n",
    "                   },\n",
    "                   nrows = 237\n",
    "                  )"
   ]
  },
  {
   "cell_type": "code",
   "execution_count": 167,
   "id": "07e7f437",
   "metadata": {},
   "outputs": [],
   "source": [
    "bevoelkerung = dict(zip(df['Postleitzahl'],df['Ins-\\ngesamt']))"
   ]
  },
  {
   "cell_type": "code",
   "execution_count": 209,
   "id": "db5b0dc7",
   "metadata": {},
   "outputs": [],
   "source": [
    "bevoelkerung = defaultdict(int)"
   ]
  },
  {
   "cell_type": "code",
   "execution_count": 210,
   "id": "f2e92a2d",
   "metadata": {},
   "outputs": [],
   "source": [
    "for plz,pop in zip(df['Postleitzahl'],df['Ins-\\ngesamt']):\n",
    "    bevoelkerung[plz] += pop"
   ]
  },
  {
   "cell_type": "markdown",
   "id": "a24d8437",
   "metadata": {},
   "source": [
    "## Buchladendichte"
   ]
  },
  {
   "cell_type": "code",
   "execution_count": 266,
   "id": "a9f0bba1",
   "metadata": {},
   "outputs": [],
   "source": [
    "dichte = dict()\n",
    "for plz,pop in bevoelkerung.items():\n",
    "    bh = bhCounter.get(plz,0)  \n",
    "    try:\n",
    "        dichte[plz] = bh/pop\n",
    "    except Exception as e:\n",
    "        print(e)"
   ]
  },
  {
   "cell_type": "code",
   "execution_count": 269,
   "id": "bbeed8dd",
   "metadata": {},
   "outputs": [],
   "source": [
    "from matplotlib import pyplot as plt"
   ]
  },
  {
   "cell_type": "code",
   "execution_count": 273,
   "id": "88b7d196",
   "metadata": {},
   "outputs": [],
   "source": [
    "xs = []\n",
    "ys = []\n",
    "for n,(plz, bhdichte) in enumerate(sorted(dichte.items(), key = lambda x:x[1], reverse = True)):\n",
    "    if n < 11:\n",
    "    #if len(dichte) * 0.2 < n < len(dichte) * 0.8:\n",
    "        xs.append(plz)\n",
    "        ys.append(bhdichte * 10000)"
   ]
  },
  {
   "cell_type": "code",
   "execution_count": 274,
   "id": "18469ffa",
   "metadata": {},
   "outputs": [
    {
     "data": {
      "image/png": "[encoded data removed]",
      "text/plain": [
       "<Figure size 432x288 with 1 Axes>"
      ]
     },
     "metadata": {
      "needs_background": "light"
     },
     "output_type": "display_data"
    }
   ],
   "source": [
    "plt.bar(xs,ys)\n",
    "plt.title(\"Buchhandlungen je 10.000 Einw.\")\n",
    "plt.xlabel(\"PLZ\")\n",
    "plt.xticks(rotation=40, ha = \"center\")\n",
    "plt.show()"
   ]
  },
  {
   "cell_type": "markdown",
   "id": "9388dc76",
   "metadata": {},
   "source": [
    "### CSV-Export"
   ]
  },
  {
   "cell_type": "code",
   "execution_count": 278,
   "id": "27b6f7cb",
   "metadata": {},
   "outputs": [],
   "source": [
    "with open(\"buchladendichteBerlin.csv\",\"w\") as OUT:\n",
    "    for plz,bhdichte in dichte.items():\n",
    "        print(f\"{plz},{bh}\", file = OUT)"
   ]
  }
 ],
 "metadata": {
  "kernelspec": {
   "display_name": "Python 3.9",
   "language": "python",
   "name": "python3.9"
  },
  "language_info": {
   "codemirror_mode": {
    "name": "ipython",
    "version": 3
   },
   "file_extension": ".py",
   "mimetype": "text/x-python",
   "name": "python",
   "nbconvert_exporter": "python",
   "pygments_lexer": "ipython3",
   "version": "3.9.0"
  }
 },
 "nbformat": 4,
 "nbformat_minor": 5
}
